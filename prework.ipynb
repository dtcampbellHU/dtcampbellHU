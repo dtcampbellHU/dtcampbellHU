{
  "nbformat": 4,
  "nbformat_minor": 0,
  "metadata": {
    "colab": {
      "provenance": []
    },
    "kernelspec": {
      "name": "python3",
      "display_name": "Python 3"
    },
    "language_info": {
      "name": "python"
    }
  },
  "cells": [
    {
      "cell_type": "code",
      "execution_count": null,
      "metadata": {
        "id": "9cIL1l8cBFfz"
      },
      "outputs": [],
      "source": []
    },
    {
      "cell_type": "markdown",
      "source": [
        "# **Data Science Prework **"
      ],
      "metadata": {
        "id": "Q2Q_42oMBJJU"
      }
    },
    {
      "cell_type": "markdown",
      "source": [
        "*Dee Campbell*"
      ],
      "metadata": {
        "id": "7gihA0z5BUZp"
      }
    },
    {
      "cell_type": "code",
      "source": [
        "print ('Hello Black World')\n",
        "print (\"Dee Cee\")"
      ],
      "metadata": {
        "colab": {
          "base_uri": "https://localhost:8080/"
        },
        "id": "6ycYQpR-Bma1",
        "outputId": "a3902bde-7fb9-4a84-c208-b594372f756c"
      },
      "execution_count": null,
      "outputs": [
        {
          "output_type": "stream",
          "name": "stdout",
          "text": [
            "Hello Black World\n",
            "Dee Cee\n"
          ]
        }
      ]
    }
  ]
}